{
 "cells": [
  {
   "cell_type": "markdown",
   "id": "e4ab3557-f59a-429c-b044-ef6fa37376e4",
   "metadata": {},
   "source": [
    "# A Program which can read all the quotes from a website (http://quotes.toscrape.com)"
   ]
  },
  {
   "cell_type": "code",
   "execution_count": 1,
   "id": "fb5f0b34-ffa7-4d6a-b2a9-18ec93853258",
   "metadata": {},
   "outputs": [
    {
     "name": "stdout",
     "output_type": "stream",
     "text": [
      "Currently scraping http://quotes.toscrape.com/page/1\n",
      "Quotes found, lets scrape...\n",
      "Currently scraping http://quotes.toscrape.com/page/2\n",
      "Quotes found, lets scrape...\n",
      "Currently scraping http://quotes.toscrape.com/page/3\n",
      "Quotes found, lets scrape...\n",
      "Currently scraping http://quotes.toscrape.com/page/4\n",
      "Quotes found, lets scrape...\n",
      "Currently scraping http://quotes.toscrape.com/page/5\n",
      "Quotes found, lets scrape...\n",
      "Currently scraping http://quotes.toscrape.com/page/6\n",
      "Quotes found, lets scrape...\n",
      "Currently scraping http://quotes.toscrape.com/page/7\n",
      "Quotes found, lets scrape...\n",
      "Currently scraping http://quotes.toscrape.com/page/8\n",
      "Quotes found, lets scrape...\n",
      "Currently scraping http://quotes.toscrape.com/page/9\n",
      "Quotes found, lets scrape...\n",
      "Currently scraping http://quotes.toscrape.com/page/10\n",
      "Quotes found, lets scrape...\n",
      "Currently scraping http://quotes.toscrape.com/page/11\n",
      "No quotes found for scraping, exiting...\n",
      "Persisting scraped data to file\n",
      "Completed...\n"
     ]
    }
   ],
   "source": [
    "from bs4 import BeautifulSoup as bs\n",
    "import requests as req\n",
    "import pandas as pd\n",
    "import traceback\n",
    "\n",
    "currentPageNo = 1\n",
    "proceed = True\n",
    "#define a list\n",
    "quoteList = []\n",
    "\n",
    "while(proceed):    \n",
    "    url = \"http://quotes.toscrape.com/page/\"+ str(currentPageNo)\n",
    "    print(f\"Currently scraping {url}\")\n",
    "    try:\n",
    "        soup = bs(req.get(url).text, \"lxml\")  \n",
    "    except Exception as e:\n",
    "        print(f\"An error occoured reading from:[{url}]\\n[{e}]\")\n",
    "        traceback.print_exc()\n",
    "        break\n",
    "    else:\n",
    "        if len(soup.findAll(\"div\", attrs = {\"class\":\"quote\"})) <= 0:\n",
    "            print(\"No quotes found for scraping, exiting...\")\n",
    "            proceed = False\n",
    "        else:\n",
    "            print(\"Quotes found, lets scrape...\")        \n",
    "            quotes = soup.findAll(\"span\", attrs = {\"class\":\"text\"})\n",
    "            authors = soup.findAll(\"small\", attrs = {\"class\":\"author\"})\n",
    "            for quote, author in zip(quotes, authors):\n",
    "                #define a dictionary\n",
    "                quoteObj = {}\n",
    "                quoteObj['Quote'] = quote.text\n",
    "                quoteObj['Author'] = author.text\n",
    "                #add quote to list\n",
    "                quoteList.append(quoteObj)\n",
    "            #Move to next page\n",
    "            currentPageNo += 1\n",
    "\n",
    "# Create a dataframe from the list\n",
    "try:\n",
    "    if len(quoteList) > 0:\n",
    "        df = pd.DataFrame(quoteList)\n",
    "        print(\"Persisting scraped data to file\")\n",
    "        df.to_csv('scraped_quotes.csv')\n",
    "        df.to_excel('scraped_quotes.xlsx')\n",
    "    else:\n",
    "        print('Nothing to persist')\n",
    "except Exception as e:\n",
    "    print(f\"An error has occoured:[{e}]\")\n",
    "    traceback_print_exc()\n",
    "else:\n",
    "    print(\"Completed...\")"
   ]
  },
  {
   "cell_type": "code",
   "execution_count": null,
   "id": "b7c4d3c0-d7de-4bfa-a5a3-a4b9097cf53d",
   "metadata": {},
   "outputs": [],
   "source": []
  }
 ],
 "metadata": {
  "kernelspec": {
   "display_name": "Python 3 (ipykernel)",
   "language": "python",
   "name": "python3"
  },
  "language_info": {
   "codemirror_mode": {
    "name": "ipython",
    "version": 3
   },
   "file_extension": ".py",
   "mimetype": "text/x-python",
   "name": "python",
   "nbconvert_exporter": "python",
   "pygments_lexer": "ipython3",
   "version": "3.12.4"
  }
 },
 "nbformat": 4,
 "nbformat_minor": 5
}
